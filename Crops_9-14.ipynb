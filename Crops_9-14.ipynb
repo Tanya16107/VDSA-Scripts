{
 "cells": [
  {
   "cell_type": "code",
   "execution_count": 1,
   "metadata": {},
   "outputs": [],
   "source": [
    "import pandas as pd\n",
    "import numpy as np\n",
    "import math"
   ]
  },
  {
   "cell_type": "code",
   "execution_count": 8,
   "metadata": {},
   "outputs": [
    {
     "data": {
      "text/plain": [
       "Index(['VDS_ID', 'PLOT_CODE', 'PLOT_AREA', 'SEASON', 'CROP', 'VAR_NAME',\n",
       "       'VAR_TYPE', 'VAR_TYPE_OT', 'PRCT_AREA', 'OP_MAIN_PROD_UNIT',\n",
       "       'OP_MAIN_PROD_QTY', 'OP_MAIN_PROD_RATE', 'OP_BY_PROD_UNIT',\n",
       "       'OP_BY_PROD_QTY', 'OP_BY_PROD_RATE', 'OP_OT_PROD_UNIT',\n",
       "       'OP_OT_PROD_QTY', 'OP_OT_PROD_RATE', 'OP_REMARKS'],\n",
       "      dtype='object')"
      ]
     },
     "execution_count": 8,
     "metadata": {},
     "output_type": "execute_result"
    }
   ],
   "source": [
    "df9 = pd.read_excel(\"./Cultivation/2009/2.Crop_info_op.xlsx\")\n",
    "df10 = pd.read_excel(\"./Cultivation/2010/Crop_info_op.xlsx\")\n",
    "df11 = pd.read_excel(\"./Cultivation/2011/Crop_info_op.xlsx\")\n",
    "df12 = pd.read_excel(\"./Cultivation/2012/2.Crop_info_op.xlsx\")\n",
    "df13 = pd.read_excel(\"./Cultivation/2013/2.Crop_info_op.xlsx\")\n",
    "df14 = pd.read_excel(\"./Cultivation/2014/2.Crop_info_op.xlsx\")\n",
    "\n",
    "df9.columns\n"
   ]
  },
  {
   "cell_type": "code",
   "execution_count": 9,
   "metadata": {},
   "outputs": [
    {
     "data": {
      "text/plain": [
       "Index(['VDS_ID', 'PLOT_CODE', 'PLOT_AREA', 'SEASON', 'CROP', 'VAR_NAME',\n",
       "       'VAR_TYPE', 'VAR_TYPE_OT', 'PRCT_AREA', 'OP_MAIN_PROD_UNIT',\n",
       "       'OP_MAIN_PROD_QTY', 'OP_MAIN_PROD_RATE', 'OP_BY_PROD_UNIT',\n",
       "       'OP_BY_PROD_QTY', 'OP_BY_PROD_RATE', 'OP_OT_PROD_UNIT',\n",
       "       'OP_OT_PROD_QTY', 'OP_OT_PROD_RATE', 'OP_REMARKS'],\n",
       "      dtype='object')"
      ]
     },
     "execution_count": 9,
     "metadata": {},
     "output_type": "execute_result"
    }
   ],
   "source": [
    "df10.columns"
   ]
  },
  {
   "cell_type": "code",
   "execution_count": 10,
   "metadata": {},
   "outputs": [
    {
     "data": {
      "text/plain": [
       "Index(['VDS_ID', 'PLOT_CODE', 'PLOT_AREA', 'SEASON', 'CROP', 'VAR_NAME',\n",
       "       'VAR_TYPE', 'VAR_TYPE_OT', 'PRCT_AREA', 'OP_MAIN_PROD_UNIT',\n",
       "       'OP_MAIN_PROD_QTY', 'OP_MAIN_PROD_RATE', 'OP_BY_PROD_UNIT',\n",
       "       'OP_BY_PROD_QTY', 'OP_BY_PROD_RATE', 'OP_OT_PROD_UNIT',\n",
       "       'OP_OT_PROD_QTY', 'OP_OT_PROD_RATE', 'OP_REMARKS'],\n",
       "      dtype='object')"
      ]
     },
     "execution_count": 10,
     "metadata": {},
     "output_type": "execute_result"
    }
   ],
   "source": [
    "df11.columns"
   ]
  },
  {
   "cell_type": "code",
   "execution_count": 11,
   "metadata": {},
   "outputs": [
    {
     "data": {
      "text/plain": [
       "Index(['VDS_ID', 'PLOT_CODE', 'PLOT_AREA', 'SEASON', 'CROP', 'VAR_NAME',\n",
       "       'VAR_TYPE', 'VAR_TYPE_OT', 'PRCT_AREA', 'OP_MAIN_PROD_UNIT',\n",
       "       'OP_MAIN_PROD_QTY', 'OP_MAIN_PROD_RATE', 'OP_BY_PROD_UNIT',\n",
       "       'OP_BY_PROD_QTY', 'OP_BY_PROD_RATE', 'OP_OT_PROD_UNIT',\n",
       "       'OP_OT_PROD_QTY', 'OP_OT_PROD_RATE', 'OP_REMARKS'],\n",
       "      dtype='object')"
      ]
     },
     "execution_count": 11,
     "metadata": {},
     "output_type": "execute_result"
    }
   ],
   "source": [
    "df12.columns\n"
   ]
  },
  {
   "cell_type": "code",
   "execution_count": 12,
   "metadata": {},
   "outputs": [
    {
     "data": {
      "text/plain": [
       "Index(['VDS_ID', 'PLOT_CO', 'PLOT_AREA', 'SEASON', 'CROP', 'VAR_NAME',\n",
       "       'VAR_TYPE', 'VAR_TYPE_OT', 'PRCT_AREA', 'OP_MAIN_PROD_UNIT',\n",
       "       'OP_MAIN_PROD_QTY', 'OP_MAIN_PROD_RATE', 'OP_BY_PROD_UNIT',\n",
       "       'OP_BY_PROD_QTY', 'OP_BY_PROD_RATE', 'OP_OT_PROD_UNIT',\n",
       "       'OP_OT_PROD_QTY', 'OP_OT_PROD_RATE', 'REMARKS'],\n",
       "      dtype='object')"
      ]
     },
     "execution_count": 12,
     "metadata": {},
     "output_type": "execute_result"
    }
   ],
   "source": [
    "df13.columns"
   ]
  },
  {
   "cell_type": "code",
   "execution_count": 13,
   "metadata": {},
   "outputs": [
    {
     "data": {
      "text/plain": [
       "Index(['VDS_ID', 'PLOT_CO', 'PLOT_AREA', 'SEASON', 'CROP', 'VAR_NAME',\n",
       "       'VAR_TYPE', 'VAR_TYPE_OT', 'PRCT_AREA', 'OP_MAIN_PROD_UNIT',\n",
       "       'OP_MAIN_PROD_QTY', 'OP_MAIN_PROD_RATE', 'OP_BY_PROD_UNIT',\n",
       "       'OP_BY_PROD_QTY', 'OP_BY_PROD_RATE', 'OP_OT_PROD_UNIT',\n",
       "       'OP_OT_PROD_QTY', 'OP_OT_PROD_RATE', 'REMARKS'],\n",
       "      dtype='object')"
      ]
     },
     "execution_count": 13,
     "metadata": {},
     "output_type": "execute_result"
    }
   ],
   "source": [
    "df14.columns"
   ]
  },
  {
   "cell_type": "code",
   "execution_count": 20,
   "metadata": {},
   "outputs": [],
   "source": [
    "df = pd.DataFrame(columns=['VDS_ID','Year', 'Village', 'State', 'Crop', 'Unit', 'Quantity', 'Rate'])\n",
    "\n",
    "\n"
   ]
  },
  {
   "cell_type": "code",
   "execution_count": 21,
   "metadata": {},
   "outputs": [],
   "source": [
    "i = 0\n",
    "for dfs in [df9,df10,df11,df12,df13,df14]:\n",
    "    for index, row in dfs.iterrows():\n",
    "        vds_id = row['VDS_ID']\n",
    "        \n",
    "        df.loc[i, 'VDS_ID'] = vds_id\n",
    "        \n",
    "        df.loc[i, 'Year'] = \"20\" + vds_id[3:5]\n",
    "        \n",
    "        state = vds_id[1:3]\n",
    "        \n",
    "        if(state==\"TS\"):\n",
    "            state = \"AP\"\n",
    "            \n",
    "        df.loc[i, 'State'] = state\n",
    "        \n",
    "        vid = vds_id[5]\n",
    "        \n",
    "        if(state==\"MH\"):\n",
    "            if(vid==\"A\"):\n",
    "                df.loc[i, 'Village'] = \"Kalman\"\n",
    "            if(vid==\"B\"):\n",
    "                df.loc[i, 'Village'] = \"Kanzara\"\n",
    "            if(vid==\"C\"):\n",
    "                df.loc[i, 'Village'] = \"Kinkhed\"\n",
    "            if(vid==\"D\"):\n",
    "                df.loc[i, 'Village'] = \"Shirapur\"\n",
    "        if(state==\"AP\"):\n",
    "            if(vid==\"A\"):\n",
    "                df.loc[i, 'Village'] = \"Aurepalle\"\n",
    "            if(vid==\"B\"):\n",
    "                df.loc[i, 'Village'] = \"Dokur\"\n",
    "            if(vid==\"C\"):\n",
    "                df.loc[i, 'Village'] = \"Janapala Cheruvu Agraharam\"\n",
    "            if(vid==\"D\"):\n",
    "                df.loc[i, 'Village'] = \"Pamidipadu\"\n",
    "        if(state==\"KN\"):\n",
    "            if(vid==\"A\"):\n",
    "                df.loc[i, 'Village'] = \"Belladamadugu\"\n",
    "            if(vid==\"B\"):\n",
    "                df.loc[i, 'Village'] = \"Kapanimbargi\"\n",
    "            if(vid==\"C\"):\n",
    "                df.loc[i, 'Village'] = \"Markabbinahalli\"\n",
    "            if(vid==\"D\"):\n",
    "                df.loc[i, 'Village'] = \"Tharati\"\n",
    "        if(state==\"GJ\"):\n",
    "            if(vid==\"A\"):\n",
    "                df.loc[i, 'Village'] = \"Babrol\"\n",
    "            if(vid==\"B\"):\n",
    "                df.loc[i, 'Village'] = \"Chatha\"\n",
    "            if(vid==\"C\"):\n",
    "                df.loc[i, 'Village'] = \"Karamdi Chingariya\"\n",
    "            if(vid==\"D\"):\n",
    "                df.loc[i, 'Village'] = \"Makhiyala\"\n",
    "        if(state==\"MP\"):                \n",
    "            if(vid==\"A\"):\n",
    "                df.loc[i, 'Village'] = \"Papda\"\n",
    "            if(vid==\"B\"):\n",
    "                df.loc[i, 'Village'] = \"Rampura Kalan\"\n",
    "        \n",
    "        df.loc[i,'Crop'] = row['CROP']\n",
    "        df.loc[i, 'Unit'] = row['OP_MAIN_PROD_UNIT']\n",
    "        df.loc[i,'Quantity'] = row['OP_MAIN_PROD_QTY']\n",
    "        df.loc[i, 'Rate'] = row['OP_MAIN_PROD_RATE']\n",
    "        i+=1\n",
    "    "
   ]
  },
  {
   "cell_type": "code",
   "execution_count": 22,
   "metadata": {},
   "outputs": [],
   "source": [
    "df.to_csv(\"crops.csv\", encoding='utf-8')"
   ]
  },
  {
   "cell_type": "code",
   "execution_count": 23,
   "metadata": {},
   "outputs": [
    {
     "data": {
      "text/plain": [
       "(18149, 8)"
      ]
     },
     "execution_count": 23,
     "metadata": {},
     "output_type": "execute_result"
    }
   ],
   "source": [
    "df.shape"
   ]
  },
  {
   "cell_type": "code",
   "execution_count": null,
   "metadata": {},
   "outputs": [],
   "source": []
  }
 ],
 "metadata": {
  "kernelspec": {
   "display_name": "Python 3",
   "language": "python",
   "name": "python3"
  },
  "language_info": {
   "codemirror_mode": {
    "name": "ipython",
    "version": 3
   },
   "file_extension": ".py",
   "mimetype": "text/x-python",
   "name": "python",
   "nbconvert_exporter": "python",
   "pygments_lexer": "ipython3",
   "version": "3.7.0"
  }
 },
 "nbformat": 4,
 "nbformat_minor": 2
}
